{
 "cells": [
  {
   "cell_type": "markdown",
   "id": "4e09d497",
   "metadata": {},
   "source": [
    "<a href=\"https://colab.research.google.com/github/fralfaro/MADS-Workshops/blob/main/docs/TallerPandas/01_curso_interactivo.ipynb\" target=\"_parent\"><img src=\"https://colab.research.google.com/assets/colab-badge.svg\" alt=\"Open In Colab\"/></a>"
   ]
  },
  {
   "cell_type": "markdown",
   "id": "56bfda56",
   "metadata": {},
   "source": [
    "# Mini Curso\n",
    "\n",
    "<img src=\"https://raw.githubusercontent.com/fralfaro/techschool/main/docs/images/python_excel.png\" width = \"400\" >\n",
    "\n",
    "\n",
    "> **Nota**: Para acceder a la presentación del mini curso en formato PDF, por favor dirígete al siguiente [enlace](https://github.com/fralfaro/techschool/blob/main/docs/TallerPandas/presentacion.pdf)."
   ]
  },
  {
   "cell_type": "markdown",
   "id": "6a81a5f4",
   "metadata": {},
   "source": [
    "## Introducción \n",
    "\n",
    "\n",
    "Este taller te enseñará a usar [Python](https://www.python.org/) junto con librerías como [pandas](https://pandas.pydata.org/) y [openpyxl](https://openpyxl.readthedocs.io/en/stable/) para trabajar con archivos Excel. Aprenderás a leer, escribir, pivotear tablas, agrupar y contar elementos, además de extraer datos de páginas web. Es ideal para usuarios intermedios o avanzados de Excel que buscan potenciar su trabajo con Python."
   ]
  },
  {
   "cell_type": "markdown",
   "id": "3dea7bed",
   "metadata": {},
   "source": [
    "## Tipos de Datos: CSV y Excel\n",
    "\n",
    "- **CSV**: [CSV](https://en.wikipedia.org/wiki/Comma-separated_values) es un formato simple para almacenar datos tabulares, con valores separados por comas u otros delimitadores. Es ampliamente usado para intercambiar datos entre aplicaciones.\n",
    "\n",
    "- **Excel**: [Excel](https://en.wikipedia.org/wiki/Microsoft_Excel) es una herramienta de hojas de cálculo de Microsoft. Los archivos pueden contener múltiples hojas, gráficos, fórmulas y datos formateados, con XLSX como el formato moderno y XLS como el más antiguo.\n",
    "\n",
    "| **Característica**        | **Archivo CSV**                                                                                 | **Archivo Excel**                                                                                       |\n",
    "|---------------------------|-------------------------------------------------------------------------------------------------|---------------------------------------------------------------------------------------------------------|\n",
    "| **Estructura del Archivo** | Datos como texto plano, con registros separados por comas u otro delimitador.                   | Organizados en hojas de cálculo con múltiples filas, columnas, fórmulas, gráficos y otros elementos.     |\n",
    "| **Capacidades de Formateo**| No admite formateo, solo contiene datos.                                                        | Admite formatos de celda, fórmulas, estilos, gráficos y más, además de los datos.                        |\n",
    "| **Compatibilidad**         | Altamente compatible con muchas aplicaciones y lenguajes de programación.                       | Compatible principalmente con Microsoft Office, aunque puede ser manejado por otras aplicaciones.         |\n"
   ]
  },
  {
   "cell_type": "markdown",
   "id": "71952b4f",
   "metadata": {},
   "source": [
    "### Utilización con Pandas\n",
    "\n",
    "Para trabajar con datos CSV y Excel en Python, la librería pandas proporciona funcionalidades específicas:\n",
    "\n",
    "- **CSV**: Para leer un archivo CSV en pandas, se utiliza la función `pd.read_csv()`, que carga los datos en un DataFrame de pandas. Para escribir datos en un archivo CSV, se puede utilizar `DataFrame.to_csv()`.\n",
    "  \n",
    "  ```python\n",
    "  import pandas as pd\n",
    "  \n",
    "  # Leer un archivo CSV\n",
    "  df = pd.read_csv('archivo.csv')\n",
    "  \n",
    "  # Escribir datos en un archivo CSV\n",
    "  df.to_csv('nuevo_archivo.csv', index=False)\n",
    "  ```\n",
    "\n",
    "- **Excel**: Para leer un archivo Excel en pandas, se puede utilizar `pd.read_excel()`, que carga los datos en un DataFrame. Para escribir datos en un archivo de Excel, se puede utilizar `DataFrame.to_excel()`.\n",
    "\n",
    "  ```python\n",
    "  import pandas as pd\n",
    "  \n",
    "  # Leer un archivo de Excel\n",
    "  df = pd.read_excel('archivo.xlsx', sheet_name='Sheet1')\n",
    "  \n",
    "  # Escribir datos en un archivo de Excel\n",
    "  df.to_excel('nuevo_archivo.xlsx', index=False)\n",
    "  ```\n",
    "\n"
   ]
  },
  {
   "cell_type": "markdown",
   "id": "42ddde1f",
   "metadata": {},
   "source": [
    "## Utilizando Pandas con Excel\n",
    "\n",
    "### Conjunto de Datos\n",
    "\n",
    "En este tutorial, utilizaremos un archivo de Excel con múltiples hojas que hemos creado a partir de los datos de [puntuaciones IMDB](https://www.kaggle.com/datasets/harshitshankhdhar/imdb-dataset-of-top-1000-movies-and-tv-shows) disponibles en Kaggle. Puedes acceder y descargar el archivo desde este enlace.\n",
    "\n",
    "<img src=\"https://raw.githubusercontent.com/fralfaro/techschool/main/docs/images/table.png\" >\n",
    "\n",
    "Nuestro archivo de Excel consta de tres hojas: `1900`, `2000` y `2010`, cada una conteniendo datos de películas correspondientes a esos años.\n",
    "\n",
    "Utilizaremos este conjunto de datos para explorar la distribución de calificaciones de las películas, identificar aquellas con las calificaciones y ganancias netas más altas, y calcular estadísticas relevantes sobre el conjunto de películas.\n",
    "\n",
    "**Descripción de los datos**\n",
    "\n",
    "La siguiente tabla proporciona una descripción detallada de los diferentes tipos de datos presentes en el conjunto de datos:\n",
    "\n",
    "| Columna                      | Descripción                   | Tipo de Datos |\n",
    "|------------------------------|-------------------------------|---------------|\n",
    "| Title                        | Título de la película        | object        |\n",
    "| Year                         | Año de lanzamiento           | float64       |\n",
    "| Genres                       | Géneros de la película       | object        |\n",
    "| Language                     | Idioma de la película        | object        |\n",
    "| Country                      | País de origen de la película| object        |\n",
    "| Content Rating               | Clasificación de contenido   | object        |\n",
    "| Duration                     | Duración de la película (min)| float64       |\n",
    "| Aspect Ratio                 | Relación de aspecto          | float64       |\n",
    "| Budget                       | Presupuesto de la película   | float64       |\n",
    "| Gross Earnings               | Ganancias brutas              | float64       |\n",
    "| Director                     | Director de la película      | object        |\n",
    "| Actor 1                      | Primer actor principal       | object        |\n",
    "| Actor 2                      | Segundo actor principal      | object        |\n",
    "| Actor 3                      | Tercer actor principal       | object        |\n",
    "| Facebook Likes - Director    | Likes en Facebook del director | float64     |\n",
    "| Facebook Likes - Actor 1     | Likes en Facebook del Actor 1 | float64     |\n",
    "| Facebook Likes - Actor 2     | Likes en Facebook del Actor 2 | float64     |\n",
    "| Facebook Likes - Actor 3     | Likes en Facebook del Actor 3 | float64     |\n",
    "| Facebook Likes - cast Total  | Total de Likes del reparto en Facebook | int64 |\n",
    "| Facebook likes - Movie       | Likes en Facebook de la película | int64     |\n",
    "| Facenumber in posters        | Número de caras en posters   | float64       |\n",
    "| User Votes                   | Votos de usuarios            | int64         |\n",
    "| Reviews by Users             | Reseñas de usuarios          | float64       |\n",
    "| Reviews by Crtiics           | Reseñas de críticos          | float64       |\n",
    "| IMDB Score                   | Puntuación IMDB              | float64       |\n"
   ]
  },
  {
   "cell_type": "markdown",
   "id": "df6443c4",
   "metadata": {},
   "source": [
    "### Leer y guardar datos \n",
    "Aprenderemos cómo leer datos de un archivo Excel y fusionar múltiples hojas en un solo DataFrame utilizando pandas en Python.\n",
    "\n",
    "**Paso 01: Intalar e Importar librerías**\n",
    "\n",
    "Necesitamos instalar la librerías necesarías para este ejercicio:\n",
    "\n",
    "```terminal\n",
    "pip install pandas openpyxl xlrd\n",
    "```"
   ]
  },
  {
   "cell_type": "markdown",
   "id": "e7c6bb87",
   "metadata": {},
   "source": [
    "> **Nota**: si utilizan [Google Colab](https://colab.research.google.com/), estas librerías deberían estar instaladas.\n",
    "\n",
    "Luego, importamos las librerías de `pandas`:"
   ]
  },
  {
   "cell_type": "code",
   "execution_count": 1,
   "id": "48dcc6fd",
   "metadata": {},
   "outputs": [],
   "source": [
    "import pandas as pd"
   ]
  },
  {
   "cell_type": "markdown",
   "id": "4a261e4f",
   "metadata": {},
   "source": [
    "**Paso 02: Leer las hojas del excel**\n",
    "\n",
    "Necesitamos especificar la ruta del archivo, para luego leer las hojas"
   ]
  },
  {
   "cell_type": "code",
   "execution_count": null,
   "id": "1a626717",
   "metadata": {},
   "outputs": [],
   "source": [
    "# Especificar la ruta del archivo Excel\n",
    "excel_file = 'https://raw.githubusercontent.com/fralfaro/MADS-Workshops/main/docs/TallerPandas/data/movies.xls'\n",
    "\n",
    "# Lee los nombres de las hojas\n",
    "nombres_hojas = pd.ExcelFile(excel_file).sheet_names\n",
    "\n",
    "# Imprimir la lista con el nombre de las hojas en excel\n",
    "nombres_hojas"
   ]
  },
  {
   "cell_type": "markdown",
   "id": "ff61a6ca",
   "metadata": {},
   "source": [
    "**Paso 03: Leer los archivos individualmente**"
   ]
  },
  {
   "cell_type": "code",
   "execution_count": 3,
   "id": "c4b9866b",
   "metadata": {},
   "outputs": [],
   "source": [
    "# Leer archivos\n",
    "df_1900 = pd.read_excel(excel_file, sheet_name=nombres_hojas[0])\n",
    "df_2000 = pd.read_excel(excel_file, sheet_name=nombres_hojas[1])\n",
    "df_2010 = pd.read_excel(excel_file, sheet_name=nombres_hojas[2])"
   ]
  },
  {
   "cell_type": "markdown",
   "id": "2b331637",
   "metadata": {},
   "source": [
    "**Paso 04: Juntar los archivos en un solo Dataframe**"
   ]
  },
  {
   "cell_type": "code",
   "execution_count": null,
   "id": "e220442a",
   "metadata": {},
   "outputs": [],
   "source": [
    "# Juntar los DataFrames en uno solo\n",
    "df = pd.concat([df_1900, df_2000, df_2010], ignore_index=True)\n",
    "\n",
    "# Mostrar las primeras filas del DataFrame\n",
    "df.head()"
   ]
  },
  {
   "cell_type": "markdown",
   "id": "a9f3d5e2",
   "metadata": {},
   "source": [
    "**Paso 05: Guardar resultados en Excel**"
   ]
  },
  {
   "cell_type": "code",
   "execution_count": 5,
   "id": "800edc30",
   "metadata": {},
   "outputs": [],
   "source": [
    "# Especifica la ruta donde deseas guardar el archivo Excel\n",
    "ruta_archivo_excel = 'movies2.xlsx'\n",
    "\n",
    "# Crea un objeto ExcelWriter\n",
    "with pd.ExcelWriter(ruta_archivo_excel) as writer:\n",
    "    # Guarda el DataFrame en una hoja llamada '1900'\n",
    "    df_1900.to_excel(writer, sheet_name='1900', index=False)\n",
    "    \n",
    "    # Guarda otro DataFrame en otra hoja llamada '2000'\n",
    "    df_2000.to_excel(writer, sheet_name='2000', index=False)\n",
    "    \n",
    "    # Guarda otro DataFrame en otra hoja llamada '2010'\n",
    "    df_2010.to_excel(writer, sheet_name='2010', index=False)"
   ]
  },
  {
   "cell_type": "markdown",
   "id": "301ca132",
   "metadata": {},
   "source": [
    "### Operaciones Básicas con Pandas"
   ]
  },
  {
   "cell_type": "code",
   "execution_count": null,
   "id": "bf68032c",
   "metadata": {},
   "outputs": [],
   "source": [
    "# Mostrar las primeras filas del DataFrame\n",
    "print(\"Primeras filas del DataFrame:\")\n",
    "df.head(5)"
   ]
  },
  {
   "cell_type": "code",
   "execution_count": null,
   "id": "c21552fe",
   "metadata": {},
   "outputs": [],
   "source": [
    "# Mostrar las ultimas  filas del DataFrame\n",
    "print(\"Ultimas filas del DataFrame:\")\n",
    "df.tail(5)"
   ]
  },
  {
   "cell_type": "code",
   "execution_count": null,
   "id": "814060e3",
   "metadata": {},
   "outputs": [],
   "source": [
    "# Obtener las dimensiones del DataFrame\n",
    "print(\"Dimensiones del DataFrame:\")\n",
    "print(df.shape)"
   ]
  },
  {
   "cell_type": "code",
   "execution_count": null,
   "id": "d87a2488",
   "metadata": {},
   "outputs": [],
   "source": [
    "# Mostrar todas las columnas del DataFrame\n",
    "print(\"Columnas del DataFrame:\")\n",
    "df.columns"
   ]
  },
  {
   "cell_type": "code",
   "execution_count": null,
   "id": "edd9924c",
   "metadata": {},
   "outputs": [],
   "source": [
    "# Valores nulos por columna\n",
    "df.isnull().sum()"
   ]
  },
  {
   "cell_type": "code",
   "execution_count": null,
   "id": "c8f7d6ee",
   "metadata": {},
   "outputs": [],
   "source": [
    "# Valores unicos por columnas\n",
    "print(\"Valores unicos por columnas:\")\n",
    "df.nunique()"
   ]
  },
  {
   "cell_type": "code",
   "execution_count": null,
   "id": "e5e7d0e9",
   "metadata": {},
   "outputs": [],
   "source": [
    "# Mostrar información del DataFrame\n",
    "print(\"Información del DataFrame:\")\n",
    "df.info()"
   ]
  },
  {
   "cell_type": "code",
   "execution_count": null,
   "id": "65e734f7",
   "metadata": {},
   "outputs": [],
   "source": [
    "# Calcular estadísticas descriptivas del DataFrame\n",
    "print(\"Estadísticas descriptivas del DataFrame:\")\n",
    "df.describe()"
   ]
  },
  {
   "cell_type": "code",
   "execution_count": null,
   "id": "08bc2eba",
   "metadata": {},
   "outputs": [],
   "source": [
    "# Seleccionar una columna específica del DataFrame\n",
    "print(\"Valores únicos de una columna específica:\")\n",
    "df['Year'].unique()"
   ]
  },
  {
   "cell_type": "code",
   "execution_count": null,
   "id": "1802b8b4",
   "metadata": {},
   "outputs": [],
   "source": [
    "# Obtener total de valores únicos de la columna específica\n",
    "print(\"Total de valores únicos de una columna específica:\")\n",
    "df['Year'].nunique()"
   ]
  },
  {
   "cell_type": "code",
   "execution_count": null,
   "id": "c21ff346",
   "metadata": {},
   "outputs": [],
   "source": [
    "# Filtrar filas que cumplan una condición\n",
    "print(\"Filtrar filas que cumplan una condición:\")\n",
    "filtered_df = df[df['Year'] > 2000]\n",
    "filtered_df.head()"
   ]
  },
  {
   "cell_type": "code",
   "execution_count": null,
   "id": "2cc9786b",
   "metadata": {},
   "outputs": [],
   "source": [
    "# Contar valores de una columan específica\n",
    "print(\"Conteo de los distintos lenguaje de las peliculas:\")\n",
    "df['Language'].value_counts()"
   ]
  },
  {
   "cell_type": "code",
   "execution_count": null,
   "id": "058fa3fb",
   "metadata": {},
   "outputs": [],
   "source": [
    "# Ordenar el DataFrame por una columna específica\n",
    "print(\"Ordenar el DataFrame por una columna específica:\")\n",
    "sorted_df = df.sort_values(by='Title', ascending=False)\n",
    "sorted_df.head()"
   ]
  },
  {
   "cell_type": "markdown",
   "id": "03f8551a",
   "metadata": {},
   "source": [
    "**Comando apply**"
   ]
  },
  {
   "cell_type": "code",
   "execution_count": 19,
   "id": "51937c03",
   "metadata": {},
   "outputs": [],
   "source": [
    "# Aplicar una función lambda a cada entrada de la columna 'Genres' para contar el número de géneros en cada entrada\n",
    "total_generos = df['Genres'].apply(lambda x: len(x.split('|')))"
   ]
  },
  {
   "cell_type": "code",
   "execution_count": null,
   "id": "4bcd9bde",
   "metadata": {},
   "outputs": [],
   "source": [
    "# Imprimir el máximo valor entre todos los conteos de géneros\n",
    "print(\"Máximo número de géneros en una entrada:\", max(total_generos))"
   ]
  },
  {
   "cell_type": "markdown",
   "id": "5bb76a01",
   "metadata": {},
   "source": [
    "**Trabajar con duplicados**"
   ]
  },
  {
   "cell_type": "code",
   "execution_count": null,
   "id": "311de1d6",
   "metadata": {},
   "outputs": [],
   "source": [
    "# Contar el número de filas duplicadas en el DataFrame\n",
    "num_filas_duplicadas = df.duplicated().sum()\n",
    "print(\"Número de filas duplicadas en el DataFrame:\", num_filas_duplicadas)"
   ]
  },
  {
   "cell_type": "code",
   "execution_count": null,
   "id": "bf4f5a9b",
   "metadata": {},
   "outputs": [],
   "source": [
    "# Eliminar filas duplicadas del DataFrame\n",
    "df = df.drop_duplicates()\n",
    "num_filas_duplicadas = df.duplicated().sum()\n",
    "print(\"Número de filas duplicadas en el DataFrame:\", num_filas_duplicadas)"
   ]
  },
  {
   "cell_type": "markdown",
   "id": "fa384bb0",
   "metadata": {},
   "source": [
    "**Crear nuevas columnas**"
   ]
  },
  {
   "cell_type": "code",
   "execution_count": null,
   "id": "4075797a",
   "metadata": {},
   "outputs": [],
   "source": [
    "import math\n",
    "\n",
    "# Redondear cada valor de la columna 'Duration' al múltiplo de 30 más cercano\n",
    "df['DurationRounded'] = df['Duration'].fillna(0).apply(lambda x: math.ceil(x / 30) * 30)\n",
    "\n",
    "# Imprimir valores\n",
    "df['DurationRounded'].unique()"
   ]
  },
  {
   "cell_type": "code",
   "execution_count": null,
   "id": "ab911cc5",
   "metadata": {},
   "outputs": [],
   "source": [
    "# Función para obtener la década correspondiente\n",
    "def obtener_decada(year):\n",
    "    if year < 1900:\n",
    "        return None\n",
    "    elif year < 2000:\n",
    "        return '1900'\n",
    "    elif year < 2010:\n",
    "        return '2000'\n",
    "    else:\n",
    "        return '2010'\n",
    "\n",
    "# Aplicar la función a la columna 'Year' para crear la nueva columna 'Decade'\n",
    "df['Decade'] = df['Year'].fillna(0).apply(obtener_decada)\n",
    "# Imprimir valores\n",
    "df['Decade'].unique()"
   ]
  },
  {
   "cell_type": "code",
   "execution_count": null,
   "id": "557549b7",
   "metadata": {},
   "outputs": [],
   "source": [
    "# Definición de los intervalos\n",
    "bins = [0, 5, 7, 10]\n",
    "\n",
    "# Definición de las etiquetas\n",
    "labels = ['Bajo', 'Medio', 'Alto']\n",
    "\n",
    "# Aplicación de la función pd.cut() para crear la nueva columna\n",
    "df['IMDB Score Category'] = pd.cut(df['IMDB Score'], bins=bins, labels=labels)\n",
    "\n",
    "# Imprimir valores\n",
    "df['IMDB Score Category'].unique()"
   ]
  },
  {
   "cell_type": "code",
   "execution_count": null,
   "id": "baf0b823",
   "metadata": {},
   "outputs": [],
   "source": [
    "# Definir el diccionario de países y continentes\n",
    "continentes_por_pais = {\n",
    "    'USA': 'North America',\n",
    "    'Germany': 'Europe',\n",
    "    'Japan': 'Asia',\n",
    "    'Denmark': 'Europe',\n",
    "    'UK': 'Europe',\n",
    "    'Italy': 'Europe',\n",
    "    'France': 'Europe',\n",
    "    'West Germany': 'Europe',\n",
    "    'Sweden': 'Europe',\n",
    "    'Soviet Union': 'Europe',\n",
    "    'Iran': 'Asia',\n",
    "    'Australia': 'Oceania',\n",
    "    'Libya': 'Africa',\n",
    "    'Canada': 'North America',\n",
    "    'South Korea': 'Asia',\n",
    "    'Brazil': 'South America',\n",
    "    'Netherlands': 'Europe',\n",
    "    'China': 'Asia',\n",
    "    'Norway': 'Europe',\n",
    "    'Switzerland': 'Europe',\n",
    "    'New Zealand': 'Oceania',\n",
    "    'Hong Kong': 'Asia',\n",
    "    'Peru': 'South America',\n",
    "    'India': 'Asia',\n",
    "    'Spain': 'Europe',\n",
    "    'Aruba': 'North America',\n",
    "    'Mexico': 'North America',\n",
    "    'Czech Republic': 'Europe',\n",
    "    'Taiwan': 'Asia',\n",
    "    'Argentina': 'South America',\n",
    "    'Thailand': 'Asia',\n",
    "    'New Line': 'North America',\n",
    "    'Afghanistan': 'Asia',\n",
    "    'Russia': 'Europe',\n",
    "    'Ireland': 'Europe',\n",
    "    'Colombia': 'South America',\n",
    "    'Romania': 'Europe',\n",
    "    'Philippines': 'Asia',\n",
    "    'Hungary': 'Europe',\n",
    "    'Cameroon': 'Africa',\n",
    "    'South Africa': 'Africa',\n",
    "    'Israel': 'Asia',\n",
    "    'Poland': 'Europe',\n",
    "    'Turkey': 'Asia',\n",
    "    'Slovakia': 'Europe',\n",
    "    'Greece': 'Europe',\n",
    "    'Iceland': 'Europe',\n",
    "    'Official site': None,\n",
    "    'Georgia': 'Europe',\n",
    "    'Finland': 'Europe',\n",
    "    'Belgium': 'Europe',\n",
    "    'Indonesia': 'Asia',\n",
    "    'Nigeria': 'Africa',\n",
    "    'Dominican Republic': 'North America',\n",
    "    'United Arab Emirates': 'Asia',\n",
    "    'Egypt': 'Africa',\n",
    "    'Bulgaria': 'Europe',\n",
    "    'Bahamas': 'North America',\n",
    "    'Cambodia': 'Asia',\n",
    "    'Kyrgyzstan': 'Asia',\n",
    "    'Kenya': 'Africa',\n",
    "    'Slovenia': 'Europe',\n",
    "    'Pakistan': 'Asia',\n",
    "    'Chile': 'South America',\n",
    "    'Panama': 'North America'\n",
    "}\n",
    "\n",
    "# Crear una nueva columna 'Continent' basada en el diccionario de países y continentes\n",
    "df['Continent'] = df['Country'].map(continentes_por_pais)\n",
    "\n",
    "# Imprimir valores\n",
    "df['Continent'].unique()"
   ]
  },
  {
   "cell_type": "markdown",
   "id": "d6a728d5",
   "metadata": {},
   "source": [
    "### Operaciones con GroupBy\n",
    "\n",
    "<img src=\"https://raw.githubusercontent.com/fralfaro/techschool/main/docs/images/groupby.svg\" width =\"600\" >\n"
   ]
  },
  {
   "cell_type": "code",
   "execution_count": null,
   "id": "402750c0",
   "metadata": {},
   "outputs": [],
   "source": [
    "# Agrupar por el año y calcular la media de IMDB Score\n",
    "df_grouped_year = df.groupby('Year')['IMDB Score'].mean()\n",
    "df_grouped_year"
   ]
  },
  {
   "cell_type": "code",
   "execution_count": null,
   "id": "78aa199c",
   "metadata": {},
   "outputs": [],
   "source": [
    "# Agrupar por año y país y calcular la suma de User Votes\n",
    "df_grouped_year_country = df.groupby(['Year', 'Country'])['User Votes'].sum()\n",
    "df_grouped_year_country"
   ]
  },
  {
   "cell_type": "code",
   "execution_count": null,
   "id": "1cdadb7d",
   "metadata": {},
   "outputs": [],
   "source": [
    "# Agrupar por año y calcular varias estadísticas para IMDB Score\n",
    "df_grouped_year_stats = df.groupby('Year')['IMDB Score'].agg(['mean', 'median', 'std'])\n",
    "df_grouped_year_stats"
   ]
  },
  {
   "cell_type": "code",
   "execution_count": null,
   "id": "dd568b06",
   "metadata": {},
   "outputs": [],
   "source": [
    "# Definir una función personalizada para calcular la diferencia entre el máximo y el mínimo de User Votes\n",
    "def custom_function(x):\n",
    "    return x.max() - x.min()\n",
    "\n",
    "# Agrupar por país y aplicar la función personalizada a User Votes\n",
    "df_grouped_country_custom = df.groupby('Country')['User Votes'].agg(custom_function)\n",
    "df_grouped_country_custom"
   ]
  },
  {
   "cell_type": "code",
   "execution_count": null,
   "id": "617afa7f",
   "metadata": {},
   "outputs": [],
   "source": [
    "# Dividir IMDB Score en intervalos y contar el número de películas en cada intervalo\n",
    "bins = [0, 5, 7, 10]\n",
    "labels = ['Bajo', 'Medio', 'Alto']\n",
    "df['IMDB Score Category'] = pd.cut(df['IMDB Score'], bins=bins, labels=labels)\n",
    "df_grouped_imdb_category_count = df.groupby('IMDB Score Category').size()\n",
    "df_grouped_imdb_category_count"
   ]
  },
  {
   "cell_type": "markdown",
   "id": "9742fc39",
   "metadata": {},
   "source": [
    "### Pivot Tables\n",
    "\n",
    "<img src=\"https://raw.githubusercontent.com/fralfaro/techschool/main/docs/images/pivot.png\" width =\"600\" >\n"
   ]
  },
  {
   "cell_type": "code",
   "execution_count": null,
   "id": "624cdf9f",
   "metadata": {},
   "outputs": [],
   "source": [
    "# Crear una pivot table para calcular la suma de User Votes según el año y el país\n",
    "pivot_table_basic = df.pivot_table(values='User Votes', index='Decade', columns='Continent', aggfunc='mean')\n",
    "pivot_table_basic"
   ]
  },
  {
   "cell_type": "code",
   "execution_count": null,
   "id": "038dd4fc",
   "metadata": {},
   "outputs": [],
   "source": [
    "# Crear una pivot table para calcular la media de IMDB Score según el año y el Content Rating\n",
    "pivot_table_mean = df.pivot_table(values='IMDB Score', index='DurationRounded', columns='Country', aggfunc='mean').fillna(0)\n",
    "pivot_table_mean"
   ]
  },
  {
   "cell_type": "markdown",
   "id": "f4a1f4e7",
   "metadata": {},
   "source": [
    "## Referencias\n",
    "\n",
    "- [IMDB Movies Dataset - Kaggle](https://www.kaggle.com/datasets/harshitshankhdhar/imdb-dataset-of-top-1000-movies-and-tv-shows)\n"
   ]
  }
 ],
 "metadata": {
  "kernelspec": {
   "display_name": "docs-PxIqdmp3-py3.10",
   "language": "python",
   "name": "python3"
  },
  "language_info": {
   "codemirror_mode": {
    "name": "ipython",
    "version": 3
   },
   "file_extension": ".py",
   "mimetype": "text/x-python",
   "name": "python",
   "nbconvert_exporter": "python",
   "pygments_lexer": "ipython3",
   "version": "3.10.11"
  },
  "nbTranslate": {
   "displayLangs": [
    "*"
   ],
   "hotkey": "alt-t",
   "langInMainMenu": true,
   "sourceLang": "en",
   "targetLang": "fr",
   "useGoogleTranslate": true
  }
 },
 "nbformat": 4,
 "nbformat_minor": 5
}
