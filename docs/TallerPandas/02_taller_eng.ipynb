{
 "cells": [
  {
   "cell_type": "markdown",
   "id": "0c503e3f",
   "metadata": {},
   "source": [
    "<a href=\"https://colab.research.google.com/github/fralfaro/MADS-Workshops/blob/main/docs/TallerPandas/02_taller_eng.ipynb\" target=\"_parent\"><img src=\"https://colab.research.google.com/assets/colab-badge.svg\" alt=\"Open In Colab\"/></a>\n",
    "\n",
    "\n",
    "# Practical Workshop"
   ]
  },
  {
   "cell_type": "markdown",
   "id": "f14e5df9",
   "metadata": {},
   "source": [
    "## Project Description\n",
    "\n",
    "### Introduction\n",
    "\n",
    "<img src=\"https://raw.githubusercontent.com/fralfaro/techschool/main/docs/images/tan.jpg\" width = \"400\" >\n",
    "\n",
    "Whenever we perform an analysis, it is essential to formulate hypotheses that we can then validate or refute. Sometimes, we accept them; other times, we reject them. To make good decisions, a company must understand whether its assumptions are correct.\n",
    "\n",
    "In this project, we will compare the music preferences of the cities of **Tangananica** and **Tanganana**. We will analyze the data to test the hypotheses and compare the behavior of users in both cities.\n",
    "\n",
    "### Data Description\n",
    "\n",
    "The data is stored in the file `music_project.xlsx`, separated into the tabs `Monday`, `Wednesday` and `Friday`.\n",
    "\n",
    "Each tab contains the following information:\n",
    "\n",
    "| Column | Description | Data Type |\n",
    "|----------|--------------------------------------|---------------|\n",
    "| `userID` | User ID | object |\n",
    "| `Track` | Song title | object |\n",
    "| `artist` | Name of singer or group | object |\n",
    "| `genre` | Music genre | object |\n",
    "| `City` | User's city | object |\n",
    "| `time` | Exact time the song was played | object |\n",
    "| `Day` | Day of the week | object |"
   ]
  },
  {
   "cell_type": "markdown",
   "id": "1a4699b2",
   "metadata": {},
   "source": [
    "## Exercises\n",
    "\n",
    "### Hypothesis to be tested\n",
    "\n",
    "1. User activity differs depending on the day of the week and the city.\n",
    "2. On Monday mornings, residents of Tangananica and Tangananá listen to different genres. The same is true on Friday nights.\n",
    "3. Listeners in Tangananica and Tangananá have different preferences. In Tangananica they prefer pop while in Tangananá there are more rap fans."
   ]
  },
  {
   "cell_type": "markdown",
   "id": "e020e72f",
   "metadata": {},
   "source": [
    "### Troubleshooting\n",
    "\n",
    "Here are a series of **step-by-step** steps to solve the use case. \n",
    "\n",
    "* To do this, you have to add the corresponding code where it says `#FIXME`.\n",
    "* Follow the instructions that will be provided."
   ]
  },
  {
   "cell_type": "markdown",
   "id": "a660f037",
   "metadata": {},
   "source": [
    "**Reading data**\n",
    "\n",
    "1. Print the name of each sheet in the file `music_project.xlsx` on the screen.\n",
    "2. Read each sheet as a data frame and join them into a single data frame called `df`."
   ]
  },
  {
   "cell_type": "code",
   "execution_count": 1,
   "id": "d3f3e324",
   "metadata": {},
   "outputs": [],
   "source": [
    "# librerias\n",
    "import pandas as pd"
   ]
  },
  {
   "cell_type": "code",
   "execution_count": null,
   "id": "571ce567",
   "metadata": {},
   "outputs": [],
   "source": [
    "# Especificar la ruta del archivo Excel\n",
    "excel_file = 'https://raw.githubusercontent.com/fralfaro/MADS-Workshops/main/docs/TallerPandas/data/music_project_cl.xlsx'\n",
    "\n",
    "# Lee los nombres de las hojas\n",
    "nombres_hojas = #FIXME\n",
    "\n",
    "# Imprimir la lista con el nombre de las hojas en excel\n",
    "nombres_hojas"
   ]
  },
  {
   "cell_type": "code",
   "execution_count": null,
   "id": "8d9bf1ea",
   "metadata": {},
   "outputs": [],
   "source": [
    "# Leer archivos\n",
    "df_monday = #FIXME (usar 'pd.read_excel')\n",
    "df_wednesday = #FIXME  (usar 'pd.read_excel')\n",
    "df_friday = #FIXME  (usar 'pd.read_excel')"
   ]
  },
  {
   "cell_type": "code",
   "execution_count": null,
   "id": "7d794866",
   "metadata": {},
   "outputs": [],
   "source": [
    "# Juntar los DataFrames en uno solo\n",
    "df = pd.concat([df_monday, df_wednesday, df_friday], ignore_index=True)\n",
    "\n",
    "# Renombrar Columnas\n",
    "df.columns = df.columns.str.lower().str.strip()\n",
    "\n",
    "df = df.rename(columns = {\n",
    "    'userid':'user_id',\n",
    "})\n",
    "\n",
    "# Mostrar las primeras filas del DataFrame\n",
    "df.head(10)"
   ]
  },
  {
   "cell_type": "code",
   "execution_count": null,
   "id": "4a5f0494",
   "metadata": {},
   "outputs": [],
   "source": [
    "# Obtener las dimensiones del DataFrame\n",
    "print(\"Dimensiones del DataFrame:\")\n",
    "print(df.shape)"
   ]
  },
  {
   "cell_type": "code",
   "execution_count": null,
   "id": "707087ae",
   "metadata": {},
   "outputs": [],
   "source": [
    "# Mostrar información del DataFrame\n",
    "print(\"Información del DataFrame:\")\n",
    "df.info()"
   ]
  },
  {
   "cell_type": "markdown",
   "id": "99df267e",
   "metadata": {},
   "source": [
    "We can see three problems with the style in the column names:\n",
    "1. Some names are uppercase, others are lowercase.\n",
    "2. There are spaces in some names.\n",
    "3. `Please detect the third problem yourself and describe it here`.\n",
    "\n",
    "The number of column values ​​is different. This means that the data contains missing values."
   ]
  },
  {
   "cell_type": "markdown",
   "id": "4febeb5e",
   "metadata": {},
   "source": [
    "**Conclusions**: ..."
   ]
  },
  {
   "cell_type": "markdown",
   "id": "1d23cd57",
   "metadata": {},
   "source": [
    "**Missing Values**\n",
    "\n",
    "First, find the number of missing values ​​in the table. To do this, use two `pandas` methods:\n",
    "\n",
    "**> Exercise**: Calculate missing values ​​per column"
   ]
  },
  {
   "cell_type": "code",
   "execution_count": null,
   "id": "90b9f7f7",
   "metadata": {},
   "outputs": [],
   "source": [
    "#FIXME (usar '.isnull().sum()')"
   ]
  },
  {
   "cell_type": "markdown",
   "id": "3aaa9af8",
   "metadata": {},
   "source": [
    "Not all missing values ​​affect the research. For example, missing values ​​in `track` and `artist` are not critical. You can simply replace them with *clear markers*.\n",
    "\n",
    "But missing values ​​in `genre` can affect the comparison of music preferences in Tangananica and Tangananá. In real life, it would be useful to know the reasons for missing data and try to compensate for them. But we don't have that opportunity in this project. So you will have to:\n",
    "\n",
    "* Fill in these missing values ​​with markers\n",
    "* Evaluate how much the missing values ​​can affect your calculations\n",
    "\n",
    "Replace missing values ​​in `track`, `artist`, and `genre` with the string `unknown`. To do this, create the list `columns_to_replace`, loop over it with `for`, and replace the missing values ​​in each of the columns:"
   ]
  },
  {
   "cell_type": "code",
   "execution_count": null,
   "id": "ac119860",
   "metadata": {},
   "outputs": [],
   "source": [
    "# Recorrer los nombres de las columnas y reemplazar los valores faltantes con 'unknown'\n",
    "columns_to_replace = ['track', 'artist', 'genre']\n",
    "for col in columns_to_replace:\n",
    "    df[col] = #FIXME (usar '.fillna()')"
   ]
  },
  {
   "cell_type": "markdown",
   "id": "102f435c",
   "metadata": {},
   "source": [
    "**> Exercise**: Count the missing values ​​again"
   ]
  },
  {
   "cell_type": "code",
   "execution_count": null,
   "id": "81ef4bbf",
   "metadata": {},
   "outputs": [],
   "source": [
    "#FIXME (usar '.isnull().sum()')"
   ]
  },
  {
   "cell_type": "markdown",
   "id": "7a004ac8",
   "metadata": {},
   "source": [
    "**Duplicates**\n",
    "\n",
    "Find the number of obvious duplicates in the table using a command:\n",
    "\n",
    "**> Exercise**: Count duplicates."
   ]
  },
  {
   "cell_type": "code",
   "execution_count": null,
   "id": "2e3f6a1c",
   "metadata": {},
   "outputs": [],
   "source": [
    "#FIXME (usar '.duplicated().sum()')"
   ]
  },
  {
   "cell_type": "markdown",
   "id": "3fde233d",
   "metadata": {},
   "source": [
    "Call the `pandas` method to get rid of obvious duplicates:\n",
    "\n",
    "**> Exercise**: Remove duplicates."
   ]
  },
  {
   "cell_type": "code",
   "execution_count": null,
   "id": "4735a618",
   "metadata": {},
   "outputs": [],
   "source": [
    "#FIXME (usar '.drop_duplicates().sum()')"
   ]
  },
  {
   "cell_type": "markdown",
   "id": "12593d14",
   "metadata": {},
   "source": [
    "**> Exercise**: Count duplicates again."
   ]
  },
  {
   "cell_type": "code",
   "execution_count": null,
   "id": "e480022a",
   "metadata": {},
   "outputs": [],
   "source": [
    "#FIXME (usar '.duplicated().sum()')"
   ]
  },
  {
   "cell_type": "markdown",
   "id": "12534219",
   "metadata": {},
   "source": [
    "Now get rid of implicit duplicates in the `genre` column. For example, the name of a genre can be written in different ways. Such errors will also affect the result.\n",
    "\n",
    "Print a list of unique genre names, sorted in alphabetical order. To do so:\n",
    "* Retrieve the desired DataFrame column\n",
    "* Apply a sorting method to it\n",
    "* For the sorted column, call the method that will return all unique column values\n",
    "\n",
    "**> Exercise**: Display and sort unique 'genre' names. (`hint`: use `sorted()` and `.unique()` commands)"
   ]
  },
  {
   "cell_type": "code",
   "execution_count": null,
   "id": "b94a4f96",
   "metadata": {},
   "outputs": [],
   "source": [
    "#FIXME (usar 'sorted()' y '.unique()')"
   ]
  },
  {
   "cell_type": "markdown",
   "id": "943ccbc7",
   "metadata": {},
   "source": [
    "Look through the list to find implicit duplicates of the genre `hiphop`. These can be misspelled names or alternative names of the same genre.\n",
    "\n",
    "You will see the following implicit duplicates:\n",
    "* `hip`\n",
    "* `hop`\n",
    "* `hip-hop`\n",
    "\n",
    "To get rid of them, declare the function `replace_wrong_genres()` with two parameters:\n",
    "* `wrong_genres=` — the list of duplicates\n",
    "* `correct_genre=` — the string with the correct value\n",
    "\n",
    "The function should correct the names in the `genre` column of the `df` table, i.e. replace each value in the `wrong_genres` list with the value in `correct_genre`."
   ]
  },
  {
   "cell_type": "code",
   "execution_count": null,
   "id": "a49d51d8",
   "metadata": {},
   "outputs": [],
   "source": [
    "# Funcion para reemplazar duplicados implicitos\n",
    "def replace_wrong_genres(df,wrong_genres,correct_genre):\n",
    "    for string in wrong_genres:\n",
    "        df.loc[lambda x: x['genre']==string,'genre'] = correct_genre\n",
    "    return df"
   ]
  },
  {
   "cell_type": "markdown",
   "id": "c1bc546c",
   "metadata": {},
   "source": [
    "Call `replace_wrong_genres()` and pass it arguments to remove implicit duplicates (`hip`, `hop`, and `hip-hop`) and replace them with `hiphop`:"
   ]
  },
  {
   "cell_type": "code",
   "execution_count": null,
   "id": "af4df85d",
   "metadata": {},
   "outputs": [],
   "source": [
    "# Eliminar duplicados implicitos\n",
    "wrong_genres = ['hip','hop','hip-hop']\n",
    "correct_genre = 'hiphop'\n",
    "\n",
    "df = #FIXME (aplicar la funcion 'replace_wrong_genres' a 'df')"
   ]
  },
  {
   "cell_type": "markdown",
   "id": "e3a4ddbf",
   "metadata": {},
   "source": [
    "**> Exercise**: Display and sort unique 'genre' names. (`hint`: use `sorted()` and `.unique()` commands)"
   ]
  },
  {
   "cell_type": "code",
   "execution_count": null,
   "id": "a5a1c06d",
   "metadata": {},
   "outputs": [],
   "source": [
    "#FIXME (usar 'sorted()' y '.unique()')"
   ]
  },
  {
   "cell_type": "markdown",
   "id": "f9887411",
   "metadata": {},
   "source": [
    "**Conclusions**: ..."
   ]
  },
  {
   "cell_type": "markdown",
   "id": "9e14a303",
   "metadata": {},
   "source": [
    "#### Hypothesis\n",
    "\n",
    "**Hypothesis 1: Comparing user behavior in two cities**\n",
    "\n",
    "According to the first hypothesis, users in Tangananica and Tangananá listen to music differently. Test this using data from three days of the week: Monday, Wednesday, and Friday.\n",
    "\n",
    "* Divide the users into groups by city.\n",
    "* Compare how many tracks each group played on Monday, Wednesday, and Friday.\n",
    "\n",
    "For the sake of practice, perform each calculation separately.\n",
    "\n",
    "Evaluate user activity in each city. Group the data by city and find the number of songs played in each group.\n",
    "\n",
    "**Counting tracks played in each city**\n",
    "\n",
    "Tangananica has more tracks played than Tangananá. But that doesn't imply that citizens of Tangananica listen to music more often. This city is simply larger and there are more users.\n",
    "\n",
    "Now group the data by day of the week and find the number of tracks played on Monday, Wednesday, and Friday.\n",
    "\n",
    "**> Exercise**: Calculate the number of tracks played on each of the three days. (`hint`: use `groupby()` command)"
   ]
  },
  {
   "cell_type": "code",
   "execution_count": null,
   "id": "d06e5ee9",
   "metadata": {},
   "outputs": [],
   "source": [
    "#FIXME (usar '.groupby()' sobre 'day' y aplicar a 'genre' )"
   ]
  },
  {
   "cell_type": "markdown",
   "id": "de59a2bd",
   "metadata": {},
   "source": [
    "Wednesday is the quietest day overall. But if we consider the two cities separately, we might come to a different conclusion.\n",
    "\n",
    "You've seen how grouping by city or day works. Now write a function that groups by both.\n",
    "\n",
    "Create the `number_tracks()` function to calculate the number of songs played on a given day and city. It will require two parameters:\n",
    "* day of the week\n",
    "* city name\n",
    "\n",
    "In the function, use a variable to store the rows from the original table, where:\n",
    "* The value of the `'day'` column is equal to the `day` parameter\n",
    "* The value of the `'city'` column is equal to the `city` parameter\n",
    "\n",
    "Apply consecutive filtering with logical indexing.\n",
    "\n",
    "Then calculate the values ​​of the `'user_id'` column in the resulting table. Store the result in a new variable. Return this variable from the function."
   ]
  },
  {
   "cell_type": "code",
   "execution_count": null,
   "id": "4c4259a4",
   "metadata": {},
   "outputs": [],
   "source": [
    "# Agrupar los datos por 'city' y 'day', y contar el número de ocurrencias de 'genre' en cada grupo\n",
    "df_city_day = df.groupby(['city', 'day'])['genre'].count().reset_index()\n",
    "\n",
    "# Pivotar la tabla para tener 'city' como índice, 'day' como columnas, y la suma de 'genre' como valores\n",
    "pivot_df = df_city_day.pivot_table(index='city', columns='day', values='genre', aggfunc='sum').reset_index()\n",
    "\n",
    "# Reordenar las columnas según el orden especificado\n",
    "pivot_df = pivot_df[['city', 'Monday', 'Wednesday', 'Friday']]\n",
    "\n",
    "# Imprimir el DataFrame resultante\n",
    "pivot_df"
   ]
  },
  {
   "cell_type": "markdown",
   "id": "1e58c58b",
   "metadata": {},
   "source": [
    "**Conclusions**: ..."
   ]
  },
  {
   "cell_type": "markdown",
   "id": "cf40fb7b",
   "metadata": {},
   "source": [
    "**Hypothesis 2: Music at the beginning and end of the week**\n",
    "\n",
    "According to the second hypothesis, on Monday morning and Friday night, citizens of Tangananica listen to different genres than those enjoyed by users in Tangananá.\n",
    "\n",
    "Get the dataframes (make sure the name of your combined table matches the dataframe provided in the two code blocks below):\n",
    "\n",
    "* For Tangananica — `tangananica_general`\n",
    "* For Tangananá — `tanganana_general`"
   ]
  },
  {
   "cell_type": "code",
   "execution_count": null,
   "id": "8856a39c",
   "metadata": {},
   "outputs": [],
   "source": [
    "# Definir 'tangananica_general', filtrar por ciudad igual a Tangananica\n",
    "tangananica_general = #FIXME (usar '.loc()' y filtrar por ciudad objetivo )"
   ]
  },
  {
   "cell_type": "code",
   "execution_count": null,
   "id": "84b7f025",
   "metadata": {},
   "outputs": [],
   "source": [
    "# Definir 'tanganana_general', filtrar por ciudad igual a Tanganana\n",
    "tanganana_general = #FIXME (usar '.loc()' y filtrar por ciudad objetivo )"
   ]
  },
  {
   "cell_type": "markdown",
   "id": "e6a52ad9",
   "metadata": {},
   "source": [
    "Write the function `genre_weekday()` with four parameters:\n",
    "* A table for data\n",
    "* The day of the week\n",
    "* The first timestamp, in 'hh:mm' format\n",
    "* The last timestamp, in 'hh:mm' format\n",
    "\n",
    "The function should return information about the 15 most popular genres on a given day within the period between the two timestamps."
   ]
  },
  {
   "cell_type": "code",
   "execution_count": null,
   "id": "d337e76e",
   "metadata": {},
   "outputs": [],
   "source": [
    "# Declarar la funcion 'genero_weekday'\n",
    "def genre_weekday(df, day, time1, time2):\n",
    "    genre_list = df[(df['day'] == day) & (df['time'] > time1) & (df['time'] < time2)]\n",
    "    genre_list_sorted = genre_list.groupby('genre')['genre'].count().sort_values(ascending=False).head(10)\n",
    "    return genre_list_sorted"
   ]
  },
  {
   "cell_type": "markdown",
   "id": "43d31fd5",
   "metadata": {},
   "source": [
    "**> Exercise**: Call the function for Monday morning in Tanganyika ('07:00:00', '11:00:00')."
   ]
  },
  {
   "cell_type": "code",
   "execution_count": null,
   "id": "209408fb",
   "metadata": {},
   "outputs": [],
   "source": [
    "#FIXME (ejemplo directo: 'genre_weekday(tangananica_general, 'Monday', '07:00:00', '11:00:00')')"
   ]
  },
  {
   "cell_type": "markdown",
   "id": "dfbf7df9",
   "metadata": {},
   "source": [
    "**> Exercise**: Call the function for Monday morning in Tangananá ('07:00:00', '11:00:00')."
   ]
  },
  {
   "cell_type": "code",
   "execution_count": null,
   "id": "289f450b",
   "metadata": {},
   "outputs": [],
   "source": [
    "#FIXME (aplicar lo mismo que el caso anterior)"
   ]
  },
  {
   "cell_type": "markdown",
   "id": "89fa40dc",
   "metadata": {},
   "source": [
    "**> Exercise**: Call the function for Friday night in Tanganyika ('17:00:00', '23:00:00')"
   ]
  },
  {
   "cell_type": "code",
   "execution_count": null,
   "id": "e5d40813",
   "metadata": {},
   "outputs": [],
   "source": [
    "#FIXME (aplicar lo mismo que el caso anterior)"
   ]
  },
  {
   "cell_type": "markdown",
   "id": "034356e8",
   "metadata": {},
   "source": [
    "**> Exercise**: Call the function for Friday night in Tangananá ('17:00:00', '23:00:00')"
   ]
  },
  {
   "cell_type": "code",
   "execution_count": null,
   "id": "b518635d",
   "metadata": {},
   "outputs": [],
   "source": [
    "#FIXME (aplicar lo mismo que el caso anterior)"
   ]
  },
  {
   "cell_type": "markdown",
   "id": "6a58ca09",
   "metadata": {},
   "source": [
    "**Conclusions**: ..."
   ]
  },
  {
   "cell_type": "markdown",
   "id": "5f480e6a",
   "metadata": {},
   "source": [
    "**Hypothesis 3: Gender preferences in Tangananica and Shelbyville**\n",
    "\n",
    "**Hypothesis**: Tangananica loves rap music. Tangananica citizens like pop music more.\n",
    "\n",
    "Group the `tangananica_general` table by genre and find the number of songs played for each genre using the `count()` method. Then sort the result in descending order and store it in `tangananica_genres`."
   ]
  },
  {
   "cell_type": "code",
   "execution_count": null,
   "id": "0e1dbe7a",
   "metadata": {},
   "outputs": [],
   "source": [
    "# Contar cuántas veces aparece cada género musical en el DataFrame 'tangananica_general'\n",
    "# y ordenar los resultados de forma descendente.\n",
    "tangananica_genres = tangananica_general.groupby('genre')['genre'].count().sort_values(ascending=False)"
   ]
  },
  {
   "cell_type": "markdown",
   "id": "6b54331f",
   "metadata": {},
   "source": [
    "**> Exercise**: Display the first 10 rows of 'tangananica_genres'"
   ]
  },
  {
   "cell_type": "code",
   "execution_count": null,
   "id": "f947dbb1",
   "metadata": {},
   "outputs": [],
   "source": [
    "#FIXME (usar '.head(10)')"
   ]
  },
  {
   "cell_type": "markdown",
   "id": "b8d511ce",
   "metadata": {},
   "source": [
    "Now do the same with the Tangananá data.\n",
    "\n",
    "Group the `tanganana_general` table by genre and find the number of songs played for each genre. Then sort the result in descending order and store it in the `tanganana_genres` table:"
   ]
  },
  {
   "cell_type": "code",
   "execution_count": null,
   "id": "2be1def6",
   "metadata": {},
   "outputs": [],
   "source": [
    "# Contar cuántas veces aparece cada género musical en el DataFrame 'tanganana_general'\n",
    "# y ordenar los resultados de forma descendente.\n",
    "tanganana_genres = tanganana_general.groupby('genre')['genre'].count().sort_values(ascending=False)"
   ]
  },
  {
   "cell_type": "markdown",
   "id": "8c96a9a0",
   "metadata": {},
   "source": [
    "**> Exercise**: Display the first 10 rows of 'tanganana_genres'"
   ]
  },
  {
   "cell_type": "code",
   "execution_count": null,
   "id": "3ad6a620",
   "metadata": {},
   "outputs": [],
   "source": [
    "#FIXME (usar '.head(10)')"
   ]
  },
  {
   "cell_type": "markdown",
   "id": "bf0f6290",
   "metadata": {},
   "source": [
    "**Conclusions**: ..."
   ]
  },
  {
   "cell_type": "markdown",
   "id": "5a9df6b8",
   "metadata": {},
   "source": [
    "### General Conclusions of the case study\n",
    "\n",
    "_Conclusions should contain information from data cleaning to validation or refutation of the three hypotheses_"
   ]
  }
 ],
 "metadata": {
  "kernelspec": {
   "display_name": "docs-PxIqdmp3-py3.10",
   "language": "python",
   "name": "python3"
  },
  "language_info": {
   "codemirror_mode": {
    "name": "ipython",
    "version": 3
   },
   "file_extension": ".py",
   "mimetype": "text/x-python",
   "name": "python",
   "nbconvert_exporter": "python",
   "pygments_lexer": "ipython3",
   "version": "3.10.11"
  },
  "nbTranslate": {
   "displayLangs": [
    "*"
   ],
   "hotkey": "alt-t",
   "langInMainMenu": true,
   "sourceLang": "en",
   "targetLang": "fr",
   "useGoogleTranslate": true
  }
 },
 "nbformat": 4,
 "nbformat_minor": 5
}
